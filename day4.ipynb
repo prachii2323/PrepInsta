{
 "cells": [
  {
   "cell_type": "code",
   "execution_count": 3,
   "metadata": {},
   "outputs": [
    {
     "name": "stdout",
     "output_type": "stream",
     "text": [
      "0 1 1 2 3 5 8 13 21 34 55 "
     ]
    }
   ],
   "source": [
    "#fibbonaci series\n",
    "num = int(input(\"Enter the number: \"))\n",
    "a = 0\n",
    "b = 1\n",
    "c = 0\n",
    "print(a, end=\" \")\n",
    "print(b, end=\" \")\n",
    "i = 1\n",
    "while i < num:\n",
    "    c = a + b\n",
    "    a = b\n",
    "    b = c\n",
    "    i = i + 1\n",
    "    print(c, end=\" \")\n"
   ]
  },
  {
   "cell_type": "code",
   "execution_count": 7,
   "metadata": {},
   "outputs": [
    {
     "name": "stdout",
     "output_type": "stream",
     "text": [
      "factorial of 0 is 1\n"
     ]
    }
   ],
   "source": [
    "#factorial\n",
    "num=int(input(\"Enter the number: \"))\n",
    "fact=1\n",
    "if num<0:\n",
    "    print(\"Not possible\")\n",
    "else:\n",
    "    for i in range(1,num+1):\n",
    "        fact=fact*i\n",
    "print(f\"factorial of {num} is {fact}\")\n",
    "    "
   ]
  },
  {
   "cell_type": "code",
   "execution_count": 8,
   "metadata": {},
   "outputs": [
    {
     "name": "stdout",
     "output_type": "stream",
     "text": [
      "Power is 256\n"
     ]
    }
   ],
   "source": [
    "#power of a number\n",
    "num=int(input(\"Enter the number:\"))\n",
    "pow=int(input(\"Enter the power\"))\n",
    "power=1\n",
    "for i in range(pow):\n",
    "    power=power*num\n",
    "print(f\"Power is {power}\")"
   ]
  },
  {
   "cell_type": "code",
   "execution_count": 4,
   "metadata": {},
   "outputs": [
    {
     "name": "stdout",
     "output_type": "stream",
     "text": [
      "1 2 4 8 16 32 64 128 256 512 1024 "
     ]
    }
   ],
   "source": [
    "#factors of a number\n",
    "num = int(input(\"Enter the number: \"))\n",
    "for i in range(1, num + 1):\n",
    "    if num % i == 0:\n",
    "        print(i, end=\" \")"
   ]
  }
 ],
 "metadata": {
  "kernelspec": {
   "display_name": "Python 3",
   "language": "python",
   "name": "python3"
  },
  "language_info": {
   "codemirror_mode": {
    "name": "ipython",
    "version": 3
   },
   "file_extension": ".py",
   "mimetype": "text/x-python",
   "name": "python",
   "nbconvert_exporter": "python",
   "pygments_lexer": "ipython3",
   "version": "3.12.2"
  }
 },
 "nbformat": 4,
 "nbformat_minor": 2
}
