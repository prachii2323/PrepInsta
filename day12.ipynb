{
 "cells": [
  {
   "cell_type": "code",
   "execution_count": 6,
   "metadata": {},
   "outputs": [
    {
     "name": "stdout",
     "output_type": "stream",
     "text": [
      "{'N'}\n"
     ]
    }
   ],
   "source": [
    "#common letters between two strings\n",
    "def commmon_letter():\n",
    "    str1=input(\"Enter the string1:\")\n",
    "    str2=input(\"Enter the string2:\")\n",
    "    s1=set(str1)\n",
    "    s2=set(str2)\n",
    "    lst=s1 & s2\n",
    "    print(lst)\n",
    "commmon_letter()\n"
   ]
  },
  {
   "cell_type": "code",
   "execution_count": 10,
   "metadata": {},
   "outputs": [
    {
     "name": "stdout",
     "output_type": "stream",
     "text": [
      "{'riya': 1, 'loves': 2, 'apple': 2, 'priya': 1, 'also': 1}\n"
     ]
    }
   ],
   "source": [
    "#count the frequency of words in a a sentence\n",
    "def frq_words():\n",
    "    str = input(\"Enter the string: \")\n",
    "    li = str.split()\n",
    "    d = {}\n",
    "    for i in li:\n",
    "        word = i.strip(\",.!?;:\")  # Remove common punctuation\n",
    "        if word not in d:\n",
    "            d[word] = 0\n",
    "        d[word] += 1\n",
    "    print(d)\n",
    "\n",
    "frq_words()\n"
   ]
  },
  {
   "cell_type": "code",
   "execution_count": 12,
   "metadata": {},
   "outputs": [
    {
     "name": "stdout",
     "output_type": "stream",
     "text": [
      "6\n"
     ]
    }
   ],
   "source": [
    "#find the missing no from series\n",
    "def find_missing_no():\n",
    "    n=a[-1]\n",
    "    total=n*(n+1)//2\n",
    "    sum1=sum(a)\n",
    "    print(total-sum1)\n",
    "a=[1,2,3,4,5,7,8,9,10]\n",
    "find_missing_no()"
   ]
  },
  {
   "cell_type": "code",
   "execution_count": 16,
   "metadata": {},
   "outputs": [
    {
     "name": "stdout",
     "output_type": "stream",
     "text": [
      "Values of pair are 3 & 9\n",
      "Values of pair are 4 & 8\n",
      "Values of pair are 5 & 7\n"
     ]
    }
   ],
   "source": [
    "#find out the pairs of sum of the given values\n",
    "def twosum(arr, target_sum):\n",
    "    arr.sort()\n",
    "    left = 0\n",
    "    right = len(arr) - 1\n",
    "    \n",
    "    while left < right:  # Use strictly less than to avoid redundant checks\n",
    "        current_sum = arr[left] + arr[right]\n",
    "        \n",
    "        if current_sum > target_sum:\n",
    "            right -= 1\n",
    "        elif current_sum < target_sum:\n",
    "            left += 1\n",
    "        else:  # current_sum == target_sum\n",
    "            print(\"Values of pair are\", arr[left], \"&\", arr[right])\n",
    "            right -= 1\n",
    "            left += 1\n",
    "\n",
    "# Example usage\n",
    "arr = [5, 7, 4, 3, 8, 9, 19, 21]\n",
    "target_sum = 12\n",
    "twosum(arr, target_sum)\n"
   ]
  },
  {
   "cell_type": "code",
   "execution_count": 20,
   "metadata": {},
   "outputs": [
    {
     "name": "stdout",
     "output_type": "stream",
     "text": [
      "8\n"
     ]
    }
   ],
   "source": [
    "#length of the last word\n",
    "def last_word(A):\n",
    "    arr = A.split()\n",
    "    if not arr:\n",
    "        return 0\n",
    "    last_word = arr[-1]\n",
    "    return len(last_word)\n",
    "\n",
    "A = \"hello world I am computer\"\n",
    "print(last_word(A))  \n",
    "\n"
   ]
  },
  {
   "cell_type": "code",
   "execution_count": 21,
   "metadata": {},
   "outputs": [
    {
     "name": "stdout",
     "output_type": "stream",
     "text": [
      "* \n",
      "* * \n",
      "* * * \n",
      "* * * * \n",
      "* * * * * \n",
      "* * * * * * \n",
      "* * * * * * * \n",
      "* * * * * * * * \n"
     ]
    }
   ],
   "source": [
    "#pattern1\n",
    "num=int(input(\"Enter the number of rows: \"))\n",
    "for i in range(1,num+1):\n",
    "    for j in range(1,i+1):\n",
    "        print(\"*\", end=\" \")\n",
    "    print()"
   ]
  },
  {
   "cell_type": "code",
   "execution_count": 23,
   "metadata": {},
   "outputs": [
    {
     "name": "stdout",
     "output_type": "stream",
     "text": [
      "* \n",
      "* * * \n",
      "* * * * * \n",
      "* * * * * * * \n",
      "* * * * * * * * * \n"
     ]
    }
   ],
   "source": [
    "#pattern2\n",
    "num=int(input(\"Enter the number of rows: \"))\n",
    "k=1\n",
    "for i in range(1,num+1):\n",
    "    for j in range(1,k+1):\n",
    "        print(\"*\",end=\" \")\n",
    "    k=k+2\n",
    "    print()"
   ]
  },
  {
   "cell_type": "code",
   "execution_count": 27,
   "metadata": {},
   "outputs": [
    {
     "name": "stdout",
     "output_type": "stream",
     "text": [
      "    * \n",
      "   * * \n",
      "  * * * \n",
      " * * * * \n",
      "* * * * * \n"
     ]
    }
   ],
   "source": [
    "#pattern3\n",
    "num=int(input(\"Enter the number of rows:\"))\n",
    "for i in range(0,num):\n",
    "    for j in range(0,num-i-1):\n",
    "        print(end=\" \")\n",
    "    for j in range(0,i+1):\n",
    "        print(\"*\",end=\" \")\n",
    "    print()"
   ]
  },
  {
   "cell_type": "code",
   "execution_count": 28,
   "metadata": {},
   "outputs": [
    {
     "name": "stdout",
     "output_type": "stream",
     "text": [
      "* * * * * \n",
      " * * * * \n",
      "  * * * \n",
      "   * * \n",
      "    * \n"
     ]
    }
   ],
   "source": [
    "#pattern4\n",
    "num=int(input(\"Enter the number of rows:\"))\n",
    "for i in range(num,0,-1):\n",
    "    for j in range(0,num-i):\n",
    "        print(end=\" \")\n",
    "    for j in range(0,i):\n",
    "        print(\"*\",end=\" \")\n",
    "    print()"
   ]
  },
  {
   "cell_type": "code",
   "execution_count": 36,
   "metadata": {},
   "outputs": [],
   "source": [
    "#pattern5\n",
    "def pattern_print(rows):\n",
    "    for i in range(rows):\n",
    "        print(''*(rows-i-1)+'*'*(i+1))\n",
    "    for j in range(rows):\n",
    "        print(''*(rows-j)+'*'*(j))\n",
    "    pattern_print(5)"
   ]
  }
 ],
 "metadata": {
  "kernelspec": {
   "display_name": "Python 3",
   "language": "python",
   "name": "python3"
  },
  "language_info": {
   "codemirror_mode": {
    "name": "ipython",
    "version": 3
   },
   "file_extension": ".py",
   "mimetype": "text/x-python",
   "name": "python",
   "nbconvert_exporter": "python",
   "pygments_lexer": "ipython3",
   "version": "3.12.2"
  }
 },
 "nbformat": 4,
 "nbformat_minor": 2
}
