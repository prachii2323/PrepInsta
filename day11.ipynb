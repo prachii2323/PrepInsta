{
 "cells": [
  {
   "cell_type": "code",
   "execution_count": 4,
   "metadata": {},
   "outputs": [],
   "source": [
    "def solve(N, K, M, A):\n",
    "    P = []\n",
    "    \n",
    "    # Find the maximum element in each KxK sub-matrix\n",
    "    for i in range(N - K + 1):\n",
    "        for j in range(N - K + 1):\n",
    "            max_value = max(A[x][y] for x in range(i, i + K) for y in range(j, j + K))\n",
    "            P.append(max_value)\n",
    "    \n",
    "    # Filter values from P that are >= M\n",
    "    filtered_P = [x for x in P if x >= M]\n",
    "    \n",
    "    # Sort the filtered values to get min and max easily\n",
    "    filtered_P.sort()\n",
    "    \n",
    "    # The number of elements >= M\n",
    "    count = len(filtered_P)\n",
    "    \n",
    "    # The minimum value >= M\n",
    "    min_value = filtered_P[0] if filtered_P else float('inf')\n",
    "    \n",
    "    # The maximum value >= M\n",
    "    max_value = filtered_P[-1] if filtered_P else float('-inf')\n",
    "    \n",
    "    # Return the results as an array\n",
    "    return [count, min_value, max_value]"
   ]
  }
 ],
 "metadata": {
  "kernelspec": {
   "display_name": "Python 3",
   "language": "python",
   "name": "python3"
  },
  "language_info": {
   "codemirror_mode": {
    "name": "ipython",
    "version": 3
   },
   "file_extension": ".py",
   "mimetype": "text/x-python",
   "name": "python",
   "nbconvert_exporter": "python",
   "pygments_lexer": "ipython3",
   "version": "3.12.2"
  }
 },
 "nbformat": 4,
 "nbformat_minor": 2
}
