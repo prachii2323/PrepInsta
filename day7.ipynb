{
 "cells": [
  {
   "cell_type": "code",
   "execution_count": 1,
   "metadata": {},
   "outputs": [],
   "source": [
    "#ARRAYS"
   ]
  },
  {
   "cell_type": "code",
   "execution_count": 9,
   "metadata": {},
   "outputs": [
    {
     "name": "stdout",
     "output_type": "stream",
     "text": [
      "9\n"
     ]
    }
   ],
   "source": [
    "#largest element in the array\n",
    "arr = list(map(int, input(\"Enter the elements\").split()))\n",
    "if len(arr) == 0:\n",
    "    print(\"The array is empty.\")\n",
    "else:\n",
    "    max = arr[0]\n",
    "    for i in range(1, len(arr)):\n",
    "        if arr[i] > max:\n",
    "            max = arr[i]\n",
    "    print(max)\n"
   ]
  },
  {
   "cell_type": "code",
   "execution_count": 11,
   "metadata": {},
   "outputs": [
    {
     "name": "stdout",
     "output_type": "stream",
     "text": [
      "The largest element in the array is: 10\n"
     ]
    }
   ],
   "source": [
    "arr = list(map(int, input(\"Enter the elements: \").split()))\n",
    "arr.sort()\n",
    "print(arr[-1])\n"
   ]
  },
  {
   "cell_type": "code",
   "execution_count": 18,
   "metadata": {},
   "outputs": [
    {
     "name": "stdout",
     "output_type": "stream",
     "text": [
      "2\n"
     ]
    }
   ],
   "source": [
    "#Smallest element in the array\n",
    "a=list(map(int,input(\"Enter the elements\").split()))\n",
    "if len(a) ==0:\n",
    "    print(\"array is empty\")\n",
    "else:\n",
    "    min=a[0]\n",
    "    for i in range(1,len(a)):\n",
    "        if a[i]<min:\n",
    "            min=a[i]\n",
    "    print(min)"
   ]
  },
  {
   "cell_type": "code",
   "execution_count": 19,
   "metadata": {},
   "outputs": [
    {
     "name": "stdout",
     "output_type": "stream",
     "text": [
      "smallest element:  0\n",
      "largest element:  8\n"
     ]
    }
   ],
   "source": [
    "#largest and smallest\n",
    "a = list(map(int, input(\"Enter the elements\").split()))\n",
    "a.sort()\n",
    "print(\"smallest element:\",a[0])\n",
    "print(\"largest element:\",a[-1] )"
   ]
  },
  {
   "cell_type": "code",
   "execution_count": 21,
   "metadata": {},
   "outputs": [
    {
     "name": "stdout",
     "output_type": "stream",
     "text": [
      "smallest element: 2\n",
      "largest element: 7\n"
     ]
    }
   ],
   "source": [
    "a=list(map(int,input(\"Enter the elemnts\").split()))\n",
    "if len(a)==0:\n",
    "    print(\"List is empty\")\n",
    "else:\n",
    "    min=a[0]\n",
    "    max=a[0]\n",
    "    for i in range(1,len(a)):\n",
    "        if a[i]>max:\n",
    "            max=a[i]\n",
    "        if a[i]<min:\n",
    "            min=a[i]\n",
    "print(\"smallest element:\",min)\n",
    "print(\"largest element:\",max )"
   ]
  },
  {
   "cell_type": "code",
   "execution_count": 5,
   "metadata": {},
   "outputs": [
    {
     "name": "stdout",
     "output_type": "stream",
     "text": [
      "5\n"
     ]
    }
   ],
   "source": [
    "#Second smallest element from the array\n",
    "import math\n",
    "arr=list(map(int,input(\"Enter the elements\").split()))\n",
    "first=math.inf\n",
    "second=math.inf\n",
    "for i in range(0,len(arr)):\n",
    "    if arr[i]<first:\n",
    "        first=arr[i]\n",
    "for i in range(0,len(arr)):\n",
    "    if arr[i]!=first and arr[i]<second:\n",
    "        second=arr[i]\n",
    "print(second)"
   ]
  },
  {
   "cell_type": "code",
   "execution_count": 7,
   "metadata": {},
   "outputs": [
    {
     "name": "stdout",
     "output_type": "stream",
     "text": [
      "2\n"
     ]
    }
   ],
   "source": [
    "arr=list(map(int,input(\"Enter teh elements\").split()))\n",
    "arr.sort()\n",
    "print(arr[1])"
   ]
  },
  {
   "cell_type": "code",
   "execution_count": 8,
   "metadata": {},
   "outputs": [
    {
     "name": "stdout",
     "output_type": "stream",
     "text": [
      "109\n"
     ]
    }
   ],
   "source": [
    "#Calculate the sum of elements in an array using Python\n",
    "arr=list(map(int,input(\"Enter the elements\").split()))\n",
    "sum=0\n",
    "for i in range(len(arr)):\n",
    "    sum+=arr[i]\n",
    "print(sum)"
   ]
  },
  {
   "cell_type": "code",
   "execution_count": 12,
   "metadata": {},
   "outputs": [
    {
     "name": "stdout",
     "output_type": "stream",
     "text": [
      "Reversed array: [8, 7, 4, 3, 2, 1]\n"
     ]
    }
   ],
   "source": [
    "#Python Code for Reverse an Array\n",
    "arr=list(map(int,input(\"Enter the elements\").split()))\n",
    "def reverse_array(arr):\n",
    "    reversed_arr=[]\n",
    "    for i in range(len(arr)-1,-1,-1):\n",
    "        reversed_arr.append(arr[i])\n",
    "    return reversed_arr\n",
    "reversed_arr=reverse_array(arr)\n",
    "print(\"Reversed array:\", reversed_arr)"
   ]
  },
  {
   "cell_type": "code",
   "execution_count": 13,
   "metadata": {},
   "outputs": [
    {
     "name": "stdout",
     "output_type": "stream",
     "text": [
      "Reveresed array: [6, 5, 4, 3, 2, 1]\n"
     ]
    }
   ],
   "source": [
    "arr=list(map(int,input(\"Enter the elements\").split()))\n",
    "def reverse_array(arr):\n",
    "    return arr[::-1]\n",
    "reversed_arr=reverse_array(arr)\n",
    "print(\"Reveresed array:\",reversed_arr)"
   ]
  },
  {
   "cell_type": "code",
   "execution_count": null,
   "metadata": {},
   "outputs": [],
   "source": []
  }
 ],
 "metadata": {
  "kernelspec": {
   "display_name": "Python 3",
   "language": "python",
   "name": "python3"
  },
  "language_info": {
   "codemirror_mode": {
    "name": "ipython",
    "version": 3
   },
   "file_extension": ".py",
   "mimetype": "text/x-python",
   "name": "python",
   "nbconvert_exporter": "python",
   "pygments_lexer": "ipython3",
   "version": "3.12.2"
  }
 },
 "nbformat": 4,
 "nbformat_minor": 2
}
