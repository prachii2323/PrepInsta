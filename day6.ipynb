{
 "cells": [
  {
   "cell_type": "code",
   "execution_count": 7,
   "metadata": {},
   "outputs": [
    {
     "name": "stdout",
     "output_type": "stream",
     "text": [
      "36 is a harshad number\n"
     ]
    }
   ],
   "source": [
    "#Harshad Number in Python Language\n",
    "num=int(input(\"Enter the number\"))\n",
    "temp=num\n",
    "sum=0\n",
    "while num>0:\n",
    "    sum+=num%10\n",
    "    num//=10\n",
    "if temp%sum==0:\n",
    "    print(temp,\"is a harshad number\")\n",
    "else:\n",
    "    print(temp,\"is not a harshad number\")"
   ]
  },
  {
   "cell_type": "code",
   "execution_count": 13,
   "metadata": {},
   "outputs": [
    {
     "name": "stdout",
     "output_type": "stream",
     "text": [
      "12 is an Abundant Number\n"
     ]
    }
   ],
   "source": [
    "#Abundant Number in Python Language\n",
    "num=int(input(\"Enter the number:\"))\n",
    "sum=1\n",
    "for i in range(1,num):\n",
    "    if num%i==0:\n",
    "        sum=sum+i\n",
    "if sum>num:\n",
    "    print(f\"{num} is an Abundant Number\")\n",
    "else:\n",
    "    print(f\"{num} is not an Abundant\")"
   ]
  },
  {
   "cell_type": "code",
   "execution_count": 21,
   "metadata": {},
   "outputs": [
    {
     "name": "stdout",
     "output_type": "stream",
     "text": [
      "friendly pair\n"
     ]
    }
   ],
   "source": [
    "#Friendly Pairs in Python Language\n",
    "num1=int(input(\"Enter the number1\"))\n",
    "num2=int(input(\"Enter the number2\"))\n",
    "sum1=0\n",
    "sum2=0\n",
    "for i in range(1,num1):\n",
    "    if num1%i==0:\n",
    "        sum1+=i\n",
    "for j in range(1,num2):\n",
    "    if num2%j==0:\n",
    "        sum2+=j\n",
    "if sum1//num1==sum2//num2:\n",
    "    print(\"friendly pair\")\n",
    "else:\n",
    "    print(\"not a friendly pair\")"
   ]
  },
  {
   "cell_type": "code",
   "execution_count": 20,
   "metadata": {},
   "outputs": [],
   "source": [
    "#Python program to find HCF of Two Numbers\n",
    "a=int(input(\"Enter the number1\"))\n",
    "b=int(input(\"Enter the number2\"))\n",
    "def hcf_find(a,b):\n",
    "    smaller=min(a,b)\n",
    "    hcf=1\n",
    "    for i in range(1,smaller+1):\n",
    "        if(a%i==0 and b%i==0):\n",
    "            hcf=i\n",
    "    return hcf\n",
    "hcf_find(a,b)\n"
   ]
  },
  {
   "cell_type": "code",
   "execution_count": 2,
   "metadata": {},
   "outputs": [
    {
     "data": {
      "text/plain": [
       "40"
      ]
     },
     "execution_count": 2,
     "metadata": {},
     "output_type": "execute_result"
    }
   ],
   "source": [
    "#Python program to find LCM of Two Numbers\n",
    "import math\n",
    "a=int(input(\"Enter the number1\"))\n",
    "b=int(input(\"Enter the number2\"))\n",
    "def lcm_find(a,b):\n",
    "    lcm = (a*b)//math.gcd(a,b)\n",
    "    return lcm\n",
    "lcm_find(a,b)"
   ]
  },
  {
   "cell_type": "code",
   "execution_count": 4,
   "metadata": {},
   "outputs": [
    {
     "data": {
      "text/plain": [
       "40"
      ]
     },
     "execution_count": 4,
     "metadata": {},
     "output_type": "execute_result"
    }
   ],
   "source": [
    "#Python program to find LCM of Two Numbers\n",
    "a=int(input(\"Enter the number1\"))\n",
    "b=int(input(\"Enter the number2\"))\n",
    "def lcm_find(a,b):\n",
    "    greater=max(a,b)\n",
    "    while True:\n",
    "        if greater%a==0 and greater%b==0:\n",
    "            lcm=greater\n",
    "            break\n",
    "        greater+=1\n",
    "    return lcm\n",
    "lcm_find(a,b)"
   ]
  }
 ],
 "metadata": {
  "kernelspec": {
   "display_name": "Python 3",
   "language": "python",
   "name": "python3"
  },
  "language_info": {
   "codemirror_mode": {
    "name": "ipython",
    "version": 3
   },
   "file_extension": ".py",
   "mimetype": "text/x-python",
   "name": "python",
   "nbconvert_exporter": "python",
   "pygments_lexer": "ipython3",
   "version": "3.12.2"
  }
 },
 "nbformat": 4,
 "nbformat_minor": 2
}
