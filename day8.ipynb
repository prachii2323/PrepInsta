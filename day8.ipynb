{
 "cells": [
  {
   "cell_type": "code",
   "execution_count": 9,
   "metadata": {},
   "outputs": [
    {
     "name": "stdout",
     "output_type": "stream",
     "text": [
      "Sorted array: [5, 10, 20, 40, 11, 3, 2]\n"
     ]
    }
   ],
   "source": [
    "#Python program to Sort first half in ascending order and second half in descending order in an array\n",
    "arr=list(map(int,input(\"Enter the elements\").split()))\n",
    "def sort_array(arr):\n",
    "    mid=len(arr)//2\n",
    "    first_half=sorted(arr[:mid])\n",
    "    second_half=sorted(arr[mid:], reverse=True)\n",
    "    sorted_arr=first_half+second_half\n",
    "    return sorted_arr\n",
    "sorted_arr = sort_array(arr)\n",
    "print(\"Sorted array:\", sorted_arr)"
   ]
  },
  {
   "cell_type": "code",
   "execution_count": null,
   "metadata": {},
   "outputs": [],
   "source": [
    "#sort\n",
    "a=list(map(int,input(\"Enter the elements\").split()))\n",
    "n = len(a)\n",
    "\n",
    "# Bubble sort algorithm\n",
    "for i in range(0, n):\n",
    "    for j in range(i + 1, n):\n",
    "        if a[i] > a[j]:\n",
    "            temp = a[i]\n",
    "            a[i] = a[j]\n",
    "            a[j] = temp\n",
    "\n",
    "print(a)"
   ]
  },
  {
   "cell_type": "code",
   "execution_count": null,
   "metadata": {},
   "outputs": [],
   "source": [
    "#Finding the frequency of element Frequency of elements in an array using Python\n"
   ]
  }
 ],
 "metadata": {
  "kernelspec": {
   "display_name": "Python 3",
   "language": "python",
   "name": "python3"
  },
  "language_info": {
   "codemirror_mode": {
    "name": "ipython",
    "version": 3
   },
   "file_extension": ".py",
   "mimetype": "text/x-python",
   "name": "python",
   "nbconvert_exporter": "python",
   "pygments_lexer": "ipython3",
   "version": "3.12.2"
  }
 },
 "nbformat": 4,
 "nbformat_minor": 2
}
