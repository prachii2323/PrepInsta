{
 "cells": [
  {
   "cell_type": "code",
   "execution_count": null,
   "metadata": {},
   "outputs": [],
   "source": [
    "num1=int(input(\"Enter the number1: \"))\n",
    "num2=int(input(\"Enter the number2: \"))\n",
    "if num1>num2:\n",
    "    print(\"num1 is greater num2\")\n",
    "else:\n",
    "    print(\"num2 is greater num1\")"
   ]
  },
  {
   "cell_type": "code",
   "execution_count": null,
   "metadata": {},
   "outputs": [],
   "source": [
    "num1=int(input(\"Enter the number1: \"))\n",
    "num2=int(input(\"Enter the number2: \"))\n",
    "print(\"num1 is greater\" if num1>num2 else \"num2 is greater\")"
   ]
  },
  {
   "cell_type": "code",
   "execution_count": null,
   "metadata": {},
   "outputs": [],
   "source": [
    "num1=int(input(\"Enter the number1: \"))\n",
    "num2=int(input(\"Enter the number2: \"))\n",
    "num3=int(input(\"Enter the number3: \"))\n",
    "if num1>num2:\n",
    "    if num1>num3:\n",
    "        print(\"num1 is greater\")\n",
    "elif num2>num1:\n",
    "    if num2>num3:\n",
    "        print(\"num2 is greater\")\n",
    "    else:\n",
    "        print(\"num3 is greater\")"
   ]
  },
  {
   "cell_type": "code",
   "execution_count": null,
   "metadata": {},
   "outputs": [],
   "source": [
    "#if else statements\n",
    "num1=int(input(\"Enter the number1: \"))\n",
    "num2=int(input(\"Enter the number2: \"))\n",
    "num3=int(input(\"Enter the number3: \"))\n",
    "if num1>num2 and num1>num3:\n",
    "    print(\"num1 is greater\")\n",
    "elif num2>num1 and num2>num3:\n",
    "    print(\"num2 is greater\")\n",
    "else:\n",
    "    print(\"num3 is greater\")"
   ]
  },
  {
   "cell_type": "code",
   "execution_count": null,
   "metadata": {},
   "outputs": [],
   "source": [
    "import calendar\n",
    "\n",
    "year = int(input(\"Enter a year: \"))\n",
    "\n",
    "if calendar.isleap(year):\n",
    "    print(year, \" is a leap year\")\n",
    "else:\n",
    "    print(year, \"is not a leap year.\")"
   ]
  },
  {
   "cell_type": "code",
   "execution_count": null,
   "metadata": {},
   "outputs": [],
   "source": [
    "num=int(input(\"Enter the year: \"))\n",
    "if (num%400==0) or (num%4==0 and num%100!=0):\n",
    "    print(\"Leap year\")\n",
    "else:\n",
    "    print(\"Not a leap year\")\n"
   ]
  },
  {
   "cell_type": "code",
   "execution_count": 4,
   "metadata": {},
   "outputs": [
    {
     "name": "stdout",
     "output_type": "stream",
     "text": [
      "7 is a prime number\n"
     ]
    }
   ],
   "source": [
    "#prime number\n",
    "n = int(input(\"Enter a number: \"))\n",
    "count = 0\n",
    "i = 1\n",
    "while i <= n:\n",
    "    if n % i == 0:\n",
    "        count += 1\n",
    "    i += 1\n",
    "if count == 2:\n",
    "    print(f\"{n} is a prime number\")\n",
    "else:\n",
    "    print(f\"{n} is not a prime number\")\n"
   ]
  }
 ],
 "metadata": {
  "kernelspec": {
   "display_name": "Python 3",
   "language": "python",
   "name": "python3"
  },
  "language_info": {
   "codemirror_mode": {
    "name": "ipython",
    "version": 3
   },
   "file_extension": ".py",
   "mimetype": "text/x-python",
   "name": "python",
   "nbconvert_exporter": "python",
   "pygments_lexer": "ipython3",
   "version": "3.12.2"
  }
 },
 "nbformat": 4,
 "nbformat_minor": 2
}
