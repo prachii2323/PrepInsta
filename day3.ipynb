{
 "cells": [
  {
   "cell_type": "code",
   "execution_count": 4,
   "metadata": {},
   "outputs": [
    {
     "name": "stdout",
     "output_type": "stream",
     "text": [
      "Sum of digits of the number is:  36\n"
     ]
    }
   ],
   "source": [
    "#Sum of Digits of a Number \n",
    "num=int(input(\"Enter the number: \"))\n",
    "sum=0\n",
    "while num!=0:\n",
    "    digit=int(num%10)\n",
    "    sum+=digit\n",
    "    num=num/10\n",
    "print(\"Sum of digits of the number is: \",sum)"
   ]
  },
  {
   "cell_type": "code",
   "execution_count": 7,
   "metadata": {},
   "outputs": [
    {
     "name": "stdout",
     "output_type": "stream",
     "text": [
      "The reverse of the number 12356 is 65321\n"
     ]
    }
   ],
   "source": [
    "#reverse of the number \n",
    "num = int(input(\"Enter the number: \"))\n",
    "temp = num\n",
    "rev = 0\n",
    "\n",
    "while temp > 0:\n",
    "    digit = temp % 10  \n",
    "    rev = rev * 10 + digit  \n",
    "    temp = temp // 10  \n",
    "\n",
    "print(f\"The reverse of the number {num} is {rev}\")\n"
   ]
  },
  {
   "cell_type": "code",
   "execution_count": 8,
   "metadata": {},
   "outputs": [
    {
     "name": "stdout",
     "output_type": "stream",
     "text": [
      "65321\n"
     ]
    }
   ],
   "source": [
    "num = int(input(\"Enter the number: \"))\n",
    "print(str(num)[::-1])"
   ]
  }
 ],
 "metadata": {
  "kernelspec": {
   "display_name": "Python 3",
   "language": "python",
   "name": "python3"
  },
  "language_info": {
   "codemirror_mode": {
    "name": "ipython",
    "version": 3
   },
   "file_extension": ".py",
   "mimetype": "text/x-python",
   "name": "python",
   "nbconvert_exporter": "python",
   "pygments_lexer": "ipython3",
   "version": "3.12.2"
  }
 },
 "nbformat": 4,
 "nbformat_minor": 2
}
