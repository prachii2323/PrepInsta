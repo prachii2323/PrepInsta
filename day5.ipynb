{
 "cells": [
  {
   "cell_type": "code",
   "execution_count": 6,
   "metadata": {},
   "outputs": [
    {
     "name": "stdout",
     "output_type": "stream",
     "text": [
      "[3, 13]\n"
     ]
    }
   ],
   "source": [
    "#Python Program to Finding out the Prime Factors of a Number\n",
    "num=int(input(\"Enter the number\"))\n",
    "prime=[]\n",
    "for i in range(1,num+1):\n",
    "    if i==1:\n",
    "        continue\n",
    "    if num%i==0:\n",
    "        flag=0\n",
    "        for j in range(2,i):\n",
    "            if i%j==0: \n",
    "                flag=1\n",
    "                break\n",
    "        if flag==0:\n",
    "            prime.append(i)\n",
    "print(prime)\n",
    "        "
   ]
  },
  {
   "cell_type": "code",
   "execution_count": 19,
   "metadata": {},
   "outputs": [
    {
     "name": "stdout",
     "output_type": "stream",
     "text": [
      "145 is a Strong number\n"
     ]
    }
   ],
   "source": [
    "#Check Whether or Not the Number is a Strong Number in Python Language\n",
    "num = int(input(\"Enter the number: \"))\n",
    "sum = 0\n",
    "temp = num\n",
    "\n",
    "while temp > 0:\n",
    "    digit = temp % 10\n",
    "    fact = 1\n",
    "    for i in range(1, digit + 1):\n",
    "        fact *= i\n",
    "    sum += fact\n",
    "    temp //= 10\n",
    "\n",
    "if sum == num:\n",
    "    print(f\"{num} is a Strong number\")\n",
    "else:\n",
    "    print(f\"{num} is not a Strong number\")\n"
   ]
  },
  {
   "cell_type": "code",
   "execution_count": 18,
   "metadata": {},
   "outputs": [
    {
     "name": "stdout",
     "output_type": "stream",
     "text": [
      "64 is not a perfect number\n"
     ]
    }
   ],
   "source": [
    "#Perfect Number in Python\n",
    "num=int(input(\"Enter the number\"))\n",
    "sum=0\n",
    "for i in range(1,num):\n",
    "    if num%i==0:\n",
    "        sum+=i\n",
    "if(num==sum):\n",
    "    print(f\"{num} is a perfect number\")\n",
    "else:\n",
    "    print(f\"{num} is not a perfect number\")"
   ]
  },
  {
   "cell_type": "code",
   "execution_count": 25,
   "metadata": {},
   "outputs": [
    {
     "name": "stdout",
     "output_type": "stream",
     "text": [
      "82 is not a perfect square\n"
     ]
    }
   ],
   "source": [
    "#Perfect Square in Python\n",
    "num=int(input(\"Enter the number\"))\n",
    "pow=num**(0.5)\n",
    "if (pow//1)==pow:\n",
    "    print(f\"{num} is a perfect square\")\n",
    "else:\n",
    "    print(f\"{num} is not a perfect square\")"
   ]
  },
  {
   "cell_type": "code",
   "execution_count": 37,
   "metadata": {},
   "outputs": [
    {
     "name": "stdout",
     "output_type": "stream",
     "text": [
      "6 is an automorphic number\n"
     ]
    }
   ],
   "source": [
    "#Automorphic Number in Python Language\n",
    "def automorphic(num):\n",
    "    square = num ** 2\n",
    "    numstr = str(num)\n",
    "    squarestr = str(square)\n",
    "    return squarestr.endswith(numstr)\n",
    "\n",
    "num = int(input(\"Enter the number: \"))\n",
    "if automorphic(num):\n",
    "    print(num, \"is an automorphic number\")\n",
    "else:\n",
    "    print(num, \"is not an automorphic number\")\n",
    "\n"
   ]
  }
 ],
 "metadata": {
  "kernelspec": {
   "display_name": "Python 3",
   "language": "python",
   "name": "python3"
  },
  "language_info": {
   "codemirror_mode": {
    "name": "ipython",
    "version": 3
   },
   "file_extension": ".py",
   "mimetype": "text/x-python",
   "name": "python",
   "nbconvert_exporter": "python",
   "pygments_lexer": "ipython3",
   "version": "3.12.2"
  }
 },
 "nbformat": 4,
 "nbformat_minor": 2
}
